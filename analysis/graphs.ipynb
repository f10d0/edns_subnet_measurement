{
 "cells": [
  {
   "cell_type": "code",
   "execution_count": 12,
   "metadata": {},
   "outputs": [],
   "source": [
    "# IMPORTS\n",
    "import numpy as np\n",
    "import pandas as pd\n",
    "import os\n",
    "import geoip2.database\n",
    "import geoip2.errors\n",
    "import geopy\n",
    "from typing import Tuple"
   ]
  },
  {
   "cell_type": "code",
   "execution_count": 13,
   "metadata": {},
   "outputs": [],
   "source": [
    "# CONSTS\n",
    "GEOIP_PATH = \"db/GeoLite2-City_20240109/GeoLite2-City.mmdb\"\n",
    "SCAN_PATH = \"csvs/scan_2024-01-23_15-11.csv.gz\"\n",
    "ENR_SCAN_PATH = \"csvs/enriched_scan.csv.gz\"\n",
    "PLOT_PATH = \"plots\"\n",
    "# INIT\n",
    "os.makedirs(PLOT_PATH, exist_ok=True)\n",
    "import df_logic\n",
    "df_logic.init_geo(GEOIP_PATH)\n",
    "import plots"
   ]
  },
  {
   "cell_type": "code",
   "execution_count": 11,
   "metadata": {},
   "outputs": [
    {
     "name": "stdout",
     "output_type": "stream",
     "text": [
      "truncating enrichted CSV file\n",
      "now creating enriched file in chunks\n",
      "chunk 0 completed\n",
      "chunk 1 completed\n",
      "chunk 2 completed\n",
      "chunk 3 completed\n",
      "chunk 4 completed\n",
      "chunk 5 completed\n"
     ]
    }
   ],
   "source": [
    "# call to create enriched dataframe\n",
    "df_logic.create_enriched_data(SCAN_PATH, ENR_SCAN_PATH, truncate=False)"
   ]
  },
  {
   "cell_type": "code",
   "execution_count": null,
   "metadata": {},
   "outputs": [],
   "source": [
    "# tests\n",
    "geoip2.database.Reader(\"\")"
   ]
  }
 ],
 "metadata": {
  "kernelspec": {
   "display_name": "venv",
   "language": "python",
   "name": "python3"
  },
  "language_info": {
   "codemirror_mode": {
    "name": "ipython",
    "version": 3
   },
   "file_extension": ".py",
   "mimetype": "text/x-python",
   "name": "python",
   "nbconvert_exporter": "python",
   "pygments_lexer": "ipython3",
   "version": "3.10.6"
  }
 },
 "nbformat": 4,
 "nbformat_minor": 2
}
